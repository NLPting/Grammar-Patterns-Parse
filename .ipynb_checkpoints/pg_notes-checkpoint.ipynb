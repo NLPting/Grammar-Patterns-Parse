{
 "cells": [
  {
   "cell_type": "code",
   "execution_count": 17,
   "metadata": {},
   "outputs": [],
   "source": [
    "from bs4 import BeautifulSoup\n",
    "import sys, urllib2, time\n",
    "import re"
   ]
  },
  {
   "cell_type": "code",
   "execution_count": 18,
   "metadata": {},
   "outputs": [],
   "source": [
    "from bs4 import BeautifulSoup\n",
    "import sys, urllib2, time\n",
    "subgroup = ''\n",
    "def parseExamples(text, chno):\n",
    "    pgNo = 'xxx'\n",
    "    import re\n",
    "    \n",
    "    htmlText = file(text).read()\n",
    "    soup = BeautifulSoup(htmlText, \"html.parser\")\n",
    "    \n",
    "   \n",
    "            \n",
    "    selectedData = soup.find_all(['div','div','div','div','div'],class_ = ['hd2','hd1','hd3','hd5','hd8'])\n",
    "    \n",
    "    key = 1\n",
    "    donekey = False\n",
    "    for data in selectedData:\n",
    "        \n",
    "\n",
    "        if pgNo < startFromPage:\n",
    "            continue\n",
    "            \n",
    "        classData, classText = data.get(\"class\"), data.text\n",
    "        \n",
    "        if (classData in [[\"hd1\"]]):\n",
    "            \n",
    "            key_level = '['+str(key)+']'\n",
    "            print('%s\\t%s\\t%s' %(chno,key_level,data.text))\n",
    "            key+=1\n",
    "            donekey = True\n",
    "            \n",
    "        if donekey == False:\n",
    "            key_level = '['+str(key)+']'\n",
    "    \n",
    "        if (classData in [[\"hd2\"]]):\n",
    "            \n",
    "            key_level2 = key_level + key_level\n",
    "            try:\n",
    "                print('%s\\t%s\\t%s\\tNote:\\t%s' %(chno,key_level2 ,data.text,data.findNext('p').text))\n",
    "            except:\n",
    "                print('%s\\t%s\\t%s\\tNote:\\t%s' %(chno,key_level2 ,data.text,'Null'))\n",
    "            \n",
    "        if (classData in [[\"hd3\"]]):\n",
    "            key_level3 = key_level + key_level + key_level\n",
    "            print('%s\\t%s\\t%s\\tNote:\\t%s' %(chno,key_level3,data.text,data.findNext('p').text))\n",
    "                \n",
    "        if(classData in [[\"hd5\"]]):\n",
    "            key_level4 = key_level + key_level + key_level + key_level\n",
    "            print('%s\\t%s\\t%s\\tNote:\\t%s' %(chno,key_level4,data.text,data.findNext('p').text))    "
   ]
  },
  {
   "cell_type": "code",
   "execution_count": 19,
   "metadata": {},
   "outputs": [],
   "source": [
    "sys.stdout = open('pg.notes.txt', 'w') "
   ]
  },
  {
   "cell_type": "code",
   "execution_count": 20,
   "metadata": {},
   "outputs": [],
   "source": [
    "startFromPage = 0\n",
    "for chno in range(1,13):\n",
    "    filename = ('ch%2d.html'% chno).replace(' ', '0')\n",
    "    parseExamples(filename, ('%2d'% chno).replace(' ', '0'))"
   ]
  },
  {
   "cell_type": "code",
   "execution_count": null,
   "metadata": {},
   "outputs": [],
   "source": []
  },
  {
   "cell_type": "code",
   "execution_count": null,
   "metadata": {},
   "outputs": [],
   "source": []
  }
 ],
 "metadata": {
  "kernelspec": {
   "display_name": "Python [conda env:py27]",
   "language": "python",
   "name": "conda-env-py27-py"
  },
  "language_info": {
   "codemirror_mode": {
    "name": "ipython",
    "version": 2
   },
   "file_extension": ".py",
   "mimetype": "text/x-python",
   "name": "python",
   "nbconvert_exporter": "python",
   "pygments_lexer": "ipython2",
   "version": "2.7.14"
  }
 },
 "nbformat": 4,
 "nbformat_minor": 2
}
