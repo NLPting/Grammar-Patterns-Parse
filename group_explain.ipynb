{
 "cells": [
  {
   "cell_type": "code",
   "execution_count": 4,
   "metadata": {},
   "outputs": [],
   "source": [
    "from bs4 import BeautifulSoup\n",
    "import sys, urllib2, time\n",
    "import re"
   ]
  },
  {
   "cell_type": "code",
   "execution_count": 5,
   "metadata": {},
   "outputs": [],
   "source": [
    "from bs4 import BeautifulSoup\n",
    "import sys, urllib2, time\n",
    "subgroup = ''\n",
    "def parseExamples(text, chno):\n",
    "    pgNo = 'xxx'    \n",
    "    htmlText = file(text).read()\n",
    "    soup = BeautifulSoup(htmlText, \"html.parser\")\n",
    "    \n",
    "    selectedData = soup.find_all(['div','div','div','div'],class_ = ['hd1','hd3','hd5','hd8'])\n",
    "    \n",
    "    for data in selectedData:\n",
    "        classData, classText = data.get(\"class\"), data.text\n",
    "        \n",
    "        \n",
    "        if(classData in [[\"hd1\"]]):\n",
    "            print(data.text)\n",
    "            key = re.findall(\"\\d\",data.text)[0]+'.'\n",
    "            keyy.append(data.text.encode('utf-8'))\n",
    "            \n",
    "        \n",
    "        \n",
    "            \n",
    "            \n",
    "        if(classData in [[\"hd3\"]]):\n",
    "            print(data.text)\n",
    "            \n",
    "    \n",
    "        if(classData in [[\"hd5\"]]):\n",
    "            \n",
    "            print(key+data.text)\n",
    "            print('\\t' + data.findNext('p').text)\n",
    "            \n",
    "        if(classData in [[\"hd8\"]]):\n",
    "            print(data.text)\n",
    "            print('\\t' + data.findNext('p').text)\n",
    "        "
   ]
  },
  {
   "cell_type": "code",
   "execution_count": 6,
   "metadata": {},
   "outputs": [],
   "source": [
    "sys.stdout = open('ch1_group_explain.txt', 'w') \n",
    "keyy = []\n",
    "startFromPage = 0\n",
    "for chno in range(1,2):\n",
    "    filename = ('ch%2d.html'% chno).replace(' ', '0')\n",
    "    parseExamples(filename, ('%2d'% chno).replace(' ', '0'))"
   ]
  },
  {
   "cell_type": "code",
   "execution_count": 7,
   "metadata": {},
   "outputs": [],
   "source": [
    "tmp = open('ch1_group_explain.txt', 'r').readlines()"
   ]
  },
  {
   "cell_type": "code",
   "execution_count": 8,
   "metadata": {},
   "outputs": [],
   "source": [
    "add_n = []\n",
    "other_list = []\n",
    "for index , line in enumerate (tmp):\n",
    "    if line.strip() in keyy:\n",
    "        line = '\\a'+line\n",
    "        #print(line)\n",
    "        other_list.append(line)\n",
    "    else:\n",
    "        other_list.append(line)"
   ]
  },
  {
   "cell_type": "code",
   "execution_count": 9,
   "metadata": {},
   "outputs": [],
   "source": [
    "ii = []\n",
    "for i in other_list:\n",
    "    if '\\a' in i:\n",
    "        i = i.replace('\\a','\\n')\n",
    "    ii.append(i)"
   ]
  },
  {
   "cell_type": "code",
   "execution_count": 10,
   "metadata": {},
   "outputs": [],
   "source": [
    "f = open('ch1_group_explain_final.txt','w')"
   ]
  },
  {
   "cell_type": "code",
   "execution_count": 11,
   "metadata": {},
   "outputs": [],
   "source": [
    "for line in ii:\n",
    "    f.writelines(line)\n",
    "f.close()"
   ]
  },
  {
   "cell_type": "code",
   "execution_count": null,
   "metadata": {},
   "outputs": [],
   "source": []
  }
 ],
 "metadata": {
  "kernelspec": {
   "display_name": "Python [conda env:py27]",
   "language": "python",
   "name": "conda-env-py27-py"
  },
  "language_info": {
   "codemirror_mode": {
    "name": "ipython",
    "version": 2
   },
   "file_extension": ".py",
   "mimetype": "text/x-python",
   "name": "python",
   "nbconvert_exporter": "python",
   "pygments_lexer": "ipython2",
   "version": "2.7.14"
  }
 },
 "nbformat": 4,
 "nbformat_minor": 2
}
